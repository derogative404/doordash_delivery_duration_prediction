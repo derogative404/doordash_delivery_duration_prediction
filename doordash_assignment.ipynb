{
 "cells": [
  {
   "attachments": {},
   "cell_type": "markdown",
   "metadata": {},
   "source": [
    "# Doordash Delivery Duration Prediction"
   ]
  },
  {
   "attachments": {},
   "cell_type": "markdown",
   "metadata": {},
   "source": [
    "### Background and Task"
   ]
  },
  {
   "attachments": {},
   "cell_type": "markdown",
   "metadata": {},
   "source": [
    "Doordash is an online food order and delivery platform. As such, it is crucial for them to ensure customers get their food as per the expected delivery time to maximise their satisfaction with the service.\n",
    "In this notebook, I will be going through various steps in order to build a model that would enable Doordash to correctly estimate the expected delivery time (in seconds)."
   ]
  },
  {
   "attachments": {},
   "cell_type": "markdown",
   "metadata": {},
   "source": [
    "### Data Description"
   ]
  },
  {
   "attachments": {},
   "cell_type": "markdown",
   "metadata": {},
   "source": [
    "I have been provided with a historical dataset containing delivery data from Doordash in 2015 at a subset of cities. \n",
    "The following are descriptions of the columns it contains:\n",
    "\n",
    "**Time features**\n",
    "\n",
    "* market_id: A city/region in which DoorDash operates, e.g., Los Angeles, given in the data as an id\n",
    "* created_at: Timestamp in UTC when the order was submitted by the consumer to DoorDash. (Note this timestamp is in UTC, but in case you need it, the actual timezone of the region was US/Pacific)\n",
    "* actual_delivery_time: Timestamp in UTC when the order was delivered to the consumer\n",
    "\n",
    "**Store features**\n",
    "\n",
    "* store_id: an id representing the restaurant the order was submitted for\n",
    "* store_primary_category: cuisine category of the restaurant, e.g., italian, asian\n",
    "* order_protocol: a store can receive orders from DoorDash through many modes. This field represents an id denoting the protocol\n",
    "\n",
    "**Order features**\n",
    "\n",
    "* total_items: total number of items in the order\n",
    "* subtotal: total value of the order submitted (in cents)\n",
    "* num_distinct_items: number of distinct items included in the order\n",
    "* min_item_price: price of the item with the least cost in the order (in cents)\n",
    "* max_item_price: price of the item with the highest cost in the order (in cents)\n",
    "\n",
    "**Market features**\n",
    "\n",
    "DoorDash being a marketplace, we have information on the state of marketplace when the order is placed, that can be used to estimate delivery time. The following features are values at the time of created_at (order submission time):\n",
    "\n",
    "* total_onshift_dashers: Number of available dashers who are within 10 miles of the store at the time of order creation\n",
    "* total_busy_dashers: Subset of above total_onshift_dashers who are currently working on an order\n",
    "* total_outstanding_orders: Number of orders within 10 miles of this order that are currently being processed.\n",
    "\n",
    "**Predictions from other models**\n",
    "\n",
    "We have predictions from other models for various stages of delivery process that we can use:\n",
    "\n",
    "* estimated_order_place_duration: Estimated time for the restaurant to receive the order from DoorDash (in seconds)\n",
    "* estimated_store_to_consumer_driving_duration: Estimated travel time between store and consumer (in seconds)\n",
    "\n",
    "\n",
    "***The target value to predict here is the total seconds value between created_at and actual_delivery_time.***"
   ]
  },
  {
   "cell_type": "markdown",
   "metadata": {},
   "source": []
  }
 ],
 "metadata": {
  "kernelspec": {
   "display_name": "doordash",
   "language": "python",
   "name": "python3"
  },
  "language_info": {
   "codemirror_mode": {
    "name": "ipython",
    "version": 3
   },
   "file_extension": ".py",
   "mimetype": "text/x-python",
   "name": "python",
   "nbconvert_exporter": "python",
   "pygments_lexer": "ipython3",
   "version": "3.11.0"
  },
  "orig_nbformat": 4,
  "vscode": {
   "interpreter": {
    "hash": "06b5b3b85882876e504d784d6b120d1354a916c26f3fde52f9d62ab0777241d7"
   }
  }
 },
 "nbformat": 4,
 "nbformat_minor": 2
}
